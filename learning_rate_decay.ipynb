{
  "cells": [
    {
      "cell_type": "markdown",
      "metadata": {
        "id": "view-in-github",
        "colab_type": "text"
      },
      "source": [
        "<a href=\"https://colab.research.google.com/github/LondheShubham153/deep_learning/blob/main/learning_rate_decay.ipynb\" target=\"_parent\"><img src=\"https://colab.research.google.com/assets/colab-badge.svg\" alt=\"Open In Colab\"/></a>"
      ]
    },
    {
      "cell_type": "markdown",
      "id": "6a7edafe",
      "metadata": {
        "id": "6a7edafe"
      },
      "source": [
        "# Time-Based Learning Rate Schedule"
      ]
    },
    {
      "cell_type": "code",
      "execution_count": null,
      "id": "4aa4d5e2",
      "metadata": {
        "id": "4aa4d5e2"
      },
      "outputs": [],
      "source": [
        "import pandas as pd\n",
        "from pandas import read_csv\n",
        "from keras.models import Sequential\n",
        "from keras.layers import Dense\n",
        "from sklearn.preprocessing import LabelEncoder\n",
        "from tensorflow.keras.optimizers import SGD"
      ]
    },
    {
      "cell_type": "code",
      "execution_count": null,
      "id": "bf2a155b",
      "metadata": {
        "id": "bf2a155b"
      },
      "outputs": [],
      "source": [
        "dataframe = pd.read_csv('ionosphere.csv')\n",
        "dataset = dataframe.values"
      ]
    },
    {
      "cell_type": "markdown",
      "id": "22ba911e",
      "metadata": {
        "id": "22ba911e"
      },
      "source": [
        "# split into input (X) and output (Y) variables"
      ]
    },
    {
      "cell_type": "code",
      "execution_count": null,
      "id": "866ea94c",
      "metadata": {
        "id": "866ea94c"
      },
      "outputs": [],
      "source": [
        "X = dataset[:,0:34].astype(float)\n",
        "Y = dataset[:,34]"
      ]
    },
    {
      "cell_type": "markdown",
      "id": "9b20a1c8",
      "metadata": {
        "id": "9b20a1c8"
      },
      "source": [
        "# encode class values as integers"
      ]
    },
    {
      "cell_type": "code",
      "execution_count": null,
      "id": "203321f6",
      "metadata": {
        "id": "203321f6"
      },
      "outputs": [],
      "source": [
        "encoder = LabelEncoder()\n",
        "encoder.fit(Y)\n",
        "Y = encoder.transform(Y)"
      ]
    },
    {
      "cell_type": "markdown",
      "id": "7f7f0d0b",
      "metadata": {
        "id": "7f7f0d0b"
      },
      "source": [
        "# create model"
      ]
    },
    {
      "cell_type": "code",
      "execution_count": null,
      "id": "dd39df28",
      "metadata": {
        "id": "dd39df28"
      },
      "outputs": [],
      "source": [
        "model = Sequential()\n",
        "model.add(Dense(34, input_dim=34, activation='relu'))\n",
        "model.add(Dense(1, activation='sigmoid'))"
      ]
    },
    {
      "cell_type": "markdown",
      "id": "aeeefaef",
      "metadata": {
        "id": "aeeefaef"
      },
      "source": [
        "# Compile model"
      ]
    },
    {
      "cell_type": "code",
      "execution_count": null,
      "id": "b736ddd3",
      "metadata": {
        "colab": {
          "base_uri": "https://localhost:8080/"
        },
        "id": "b736ddd3",
        "outputId": "89fa7cb2-9e96-4889-a7a2-3e479c6c92dc"
      },
      "outputs": [
        {
          "output_type": "stream",
          "name": "stderr",
          "text": [
            "/usr/local/lib/python3.7/dist-packages/keras/optimizer_v2/gradient_descent.py:102: UserWarning: The `lr` argument is deprecated, use `learning_rate` instead.\n",
            "  super(SGD, self).__init__(name, **kwargs)\n"
          ]
        }
      ],
      "source": [
        "epochs = 50\n",
        "learning_rate = 0.1\n",
        "decay_rate = learning_rate / epochs\n",
        "momentum = 0.8\n",
        "sgd = SGD(lr=learning_rate, momentum=momentum, decay=decay_rate, nesterov=False)\n",
        "model.compile(loss='binary_crossentropy', optimizer=sgd, metrics=['accuracy'])"
      ]
    },
    {
      "cell_type": "markdown",
      "id": "fb89b86d",
      "metadata": {
        "id": "fb89b86d"
      },
      "source": [
        "# Fit the model"
      ]
    },
    {
      "cell_type": "code",
      "execution_count": null,
      "id": "ea2bb6b1",
      "metadata": {
        "colab": {
          "base_uri": "https://localhost:8080/"
        },
        "id": "ea2bb6b1",
        "outputId": "dc359110-b9ae-49a2-e878-db6fa76c847d"
      },
      "outputs": [
        {
          "output_type": "stream",
          "name": "stdout",
          "text": [
            "Epoch 1/50\n",
            "9/9 - 1s - loss: 0.6599 - accuracy: 0.6340 - val_loss: 0.4754 - val_accuracy: 0.8190 - 883ms/epoch - 98ms/step\n",
            "Epoch 2/50\n",
            "9/9 - 0s - loss: 0.4584 - accuracy: 0.8170 - val_loss: 0.3596 - val_accuracy: 0.9310 - 49ms/epoch - 5ms/step\n",
            "Epoch 3/50\n",
            "9/9 - 0s - loss: 0.3490 - accuracy: 0.8894 - val_loss: 0.2971 - val_accuracy: 0.9569 - 51ms/epoch - 6ms/step\n",
            "Epoch 4/50\n",
            "9/9 - 0s - loss: 0.2759 - accuracy: 0.9234 - val_loss: 0.2204 - val_accuracy: 0.9655 - 49ms/epoch - 5ms/step\n",
            "Epoch 5/50\n",
            "9/9 - 0s - loss: 0.2365 - accuracy: 0.9064 - val_loss: 0.1595 - val_accuracy: 0.9655 - 43ms/epoch - 5ms/step\n",
            "Epoch 6/50\n",
            "9/9 - 0s - loss: 0.2146 - accuracy: 0.9277 - val_loss: 0.2579 - val_accuracy: 0.9483 - 36ms/epoch - 4ms/step\n",
            "Epoch 7/50\n",
            "9/9 - 0s - loss: 0.1906 - accuracy: 0.9319 - val_loss: 0.1601 - val_accuracy: 0.9741 - 54ms/epoch - 6ms/step\n",
            "Epoch 8/50\n",
            "9/9 - 0s - loss: 0.1775 - accuracy: 0.9447 - val_loss: 0.1444 - val_accuracy: 0.9655 - 44ms/epoch - 5ms/step\n",
            "Epoch 9/50\n",
            "9/9 - 0s - loss: 0.1561 - accuracy: 0.9447 - val_loss: 0.1804 - val_accuracy: 0.9569 - 54ms/epoch - 6ms/step\n",
            "Epoch 10/50\n",
            "9/9 - 0s - loss: 0.1491 - accuracy: 0.9532 - val_loss: 0.1197 - val_accuracy: 0.9741 - 54ms/epoch - 6ms/step\n",
            "Epoch 11/50\n",
            "9/9 - 0s - loss: 0.1420 - accuracy: 0.9489 - val_loss: 0.1435 - val_accuracy: 0.9741 - 42ms/epoch - 5ms/step\n",
            "Epoch 12/50\n",
            "9/9 - 0s - loss: 0.1284 - accuracy: 0.9574 - val_loss: 0.1032 - val_accuracy: 0.9741 - 52ms/epoch - 6ms/step\n",
            "Epoch 13/50\n",
            "9/9 - 0s - loss: 0.1319 - accuracy: 0.9617 - val_loss: 0.1150 - val_accuracy: 0.9741 - 39ms/epoch - 4ms/step\n",
            "Epoch 14/50\n",
            "9/9 - 0s - loss: 0.1155 - accuracy: 0.9702 - val_loss: 0.1472 - val_accuracy: 0.9655 - 57ms/epoch - 6ms/step\n",
            "Epoch 15/50\n",
            "9/9 - 0s - loss: 0.1212 - accuracy: 0.9617 - val_loss: 0.1074 - val_accuracy: 0.9741 - 43ms/epoch - 5ms/step\n",
            "Epoch 16/50\n",
            "9/9 - 0s - loss: 0.1140 - accuracy: 0.9617 - val_loss: 0.0919 - val_accuracy: 0.9741 - 36ms/epoch - 4ms/step\n",
            "Epoch 17/50\n",
            "9/9 - 0s - loss: 0.1056 - accuracy: 0.9745 - val_loss: 0.0903 - val_accuracy: 0.9741 - 55ms/epoch - 6ms/step\n",
            "Epoch 18/50\n",
            "9/9 - 0s - loss: 0.1048 - accuracy: 0.9702 - val_loss: 0.1463 - val_accuracy: 0.9569 - 40ms/epoch - 4ms/step\n",
            "Epoch 19/50\n",
            "9/9 - 0s - loss: 0.0990 - accuracy: 0.9702 - val_loss: 0.0916 - val_accuracy: 0.9741 - 57ms/epoch - 6ms/step\n",
            "Epoch 20/50\n",
            "9/9 - 0s - loss: 0.0936 - accuracy: 0.9745 - val_loss: 0.0876 - val_accuracy: 0.9741 - 58ms/epoch - 6ms/step\n",
            "Epoch 21/50\n",
            "9/9 - 0s - loss: 0.0904 - accuracy: 0.9830 - val_loss: 0.1036 - val_accuracy: 0.9741 - 53ms/epoch - 6ms/step\n",
            "Epoch 22/50\n",
            "9/9 - 0s - loss: 0.0874 - accuracy: 0.9787 - val_loss: 0.0857 - val_accuracy: 0.9741 - 42ms/epoch - 5ms/step\n",
            "Epoch 23/50\n",
            "9/9 - 0s - loss: 0.0839 - accuracy: 0.9830 - val_loss: 0.0903 - val_accuracy: 0.9741 - 52ms/epoch - 6ms/step\n",
            "Epoch 24/50\n",
            "9/9 - 0s - loss: 0.0784 - accuracy: 0.9830 - val_loss: 0.0833 - val_accuracy: 0.9741 - 38ms/epoch - 4ms/step\n",
            "Epoch 25/50\n",
            "9/9 - 0s - loss: 0.0813 - accuracy: 0.9787 - val_loss: 0.0884 - val_accuracy: 0.9741 - 38ms/epoch - 4ms/step\n",
            "Epoch 26/50\n",
            "9/9 - 0s - loss: 0.0767 - accuracy: 0.9830 - val_loss: 0.0732 - val_accuracy: 0.9828 - 44ms/epoch - 5ms/step\n",
            "Epoch 27/50\n",
            "9/9 - 0s - loss: 0.0798 - accuracy: 0.9787 - val_loss: 0.0860 - val_accuracy: 0.9741 - 43ms/epoch - 5ms/step\n",
            "Epoch 28/50\n",
            "9/9 - 0s - loss: 0.0724 - accuracy: 0.9830 - val_loss: 0.0825 - val_accuracy: 0.9828 - 57ms/epoch - 6ms/step\n",
            "Epoch 29/50\n",
            "9/9 - 0s - loss: 0.0688 - accuracy: 0.9830 - val_loss: 0.0829 - val_accuracy: 0.9828 - 38ms/epoch - 4ms/step\n",
            "Epoch 30/50\n",
            "9/9 - 0s - loss: 0.0698 - accuracy: 0.9830 - val_loss: 0.0853 - val_accuracy: 0.9828 - 53ms/epoch - 6ms/step\n",
            "Epoch 31/50\n",
            "9/9 - 0s - loss: 0.0660 - accuracy: 0.9830 - val_loss: 0.0776 - val_accuracy: 0.9828 - 34ms/epoch - 4ms/step\n",
            "Epoch 32/50\n",
            "9/9 - 0s - loss: 0.0640 - accuracy: 0.9830 - val_loss: 0.0821 - val_accuracy: 0.9741 - 56ms/epoch - 6ms/step\n",
            "Epoch 33/50\n",
            "9/9 - 0s - loss: 0.0624 - accuracy: 0.9830 - val_loss: 0.0792 - val_accuracy: 0.9741 - 52ms/epoch - 6ms/step\n",
            "Epoch 34/50\n",
            "9/9 - 0s - loss: 0.0624 - accuracy: 0.9830 - val_loss: 0.0722 - val_accuracy: 0.9828 - 42ms/epoch - 5ms/step\n",
            "Epoch 35/50\n",
            "9/9 - 0s - loss: 0.0619 - accuracy: 0.9830 - val_loss: 0.0835 - val_accuracy: 0.9828 - 47ms/epoch - 5ms/step\n",
            "Epoch 36/50\n",
            "9/9 - 0s - loss: 0.0625 - accuracy: 0.9830 - val_loss: 0.0898 - val_accuracy: 0.9741 - 36ms/epoch - 4ms/step\n",
            "Epoch 37/50\n",
            "9/9 - 0s - loss: 0.0585 - accuracy: 0.9830 - val_loss: 0.0650 - val_accuracy: 0.9828 - 53ms/epoch - 6ms/step\n",
            "Epoch 38/50\n",
            "9/9 - 0s - loss: 0.0590 - accuracy: 0.9830 - val_loss: 0.0731 - val_accuracy: 0.9828 - 42ms/epoch - 5ms/step\n",
            "Epoch 39/50\n",
            "9/9 - 0s - loss: 0.0587 - accuracy: 0.9830 - val_loss: 0.0809 - val_accuracy: 0.9828 - 39ms/epoch - 4ms/step\n",
            "Epoch 40/50\n",
            "9/9 - 0s - loss: 0.0641 - accuracy: 0.9872 - val_loss: 0.0622 - val_accuracy: 0.9828 - 53ms/epoch - 6ms/step\n",
            "Epoch 41/50\n",
            "9/9 - 0s - loss: 0.0620 - accuracy: 0.9787 - val_loss: 0.0878 - val_accuracy: 0.9828 - 57ms/epoch - 6ms/step\n",
            "Epoch 42/50\n",
            "9/9 - 0s - loss: 0.0518 - accuracy: 0.9915 - val_loss: 0.0651 - val_accuracy: 0.9828 - 37ms/epoch - 4ms/step\n",
            "Epoch 43/50\n",
            "9/9 - 0s - loss: 0.0562 - accuracy: 0.9830 - val_loss: 0.0844 - val_accuracy: 0.9828 - 58ms/epoch - 6ms/step\n",
            "Epoch 44/50\n",
            "9/9 - 0s - loss: 0.0561 - accuracy: 0.9915 - val_loss: 0.0665 - val_accuracy: 0.9828 - 40ms/epoch - 4ms/step\n",
            "Epoch 45/50\n",
            "9/9 - 0s - loss: 0.0556 - accuracy: 0.9830 - val_loss: 0.0730 - val_accuracy: 0.9828 - 51ms/epoch - 6ms/step\n",
            "Epoch 46/50\n",
            "9/9 - 0s - loss: 0.0506 - accuracy: 0.9872 - val_loss: 0.0701 - val_accuracy: 0.9828 - 50ms/epoch - 6ms/step\n",
            "Epoch 47/50\n",
            "9/9 - 0s - loss: 0.0521 - accuracy: 0.9830 - val_loss: 0.0766 - val_accuracy: 0.9828 - 35ms/epoch - 4ms/step\n",
            "Epoch 48/50\n",
            "9/9 - 0s - loss: 0.0598 - accuracy: 0.9915 - val_loss: 0.0594 - val_accuracy: 0.9828 - 44ms/epoch - 5ms/step\n",
            "Epoch 49/50\n",
            "9/9 - 0s - loss: 0.0547 - accuracy: 0.9872 - val_loss: 0.0763 - val_accuracy: 0.9828 - 55ms/epoch - 6ms/step\n",
            "Epoch 50/50\n",
            "9/9 - 0s - loss: 0.0493 - accuracy: 0.9915 - val_loss: 0.0726 - val_accuracy: 0.9828 - 55ms/epoch - 6ms/step\n"
          ]
        },
        {
          "output_type": "execute_result",
          "data": {
            "text/plain": [
              "<keras.callbacks.History at 0x7f77e6836cd0>"
            ]
          },
          "metadata": {},
          "execution_count": 10
        }
      ],
      "source": [
        "model.fit(X, Y, validation_split=0.33, epochs=epochs, batch_size=28, verbose=2)"
      ]
    },
    {
      "cell_type": "code",
      "execution_count": null,
      "id": "d7f8ae37",
      "metadata": {
        "id": "d7f8ae37"
      },
      "outputs": [],
      "source": [
        ""
      ]
    }
  ],
  "metadata": {
    "kernelspec": {
      "display_name": "Python 3",
      "language": "python",
      "name": "python3"
    },
    "language_info": {
      "codemirror_mode": {
        "name": "ipython",
        "version": 3
      },
      "file_extension": ".py",
      "mimetype": "text/x-python",
      "name": "python",
      "nbconvert_exporter": "python",
      "pygments_lexer": "ipython3",
      "version": "3.8.8"
    },
    "colab": {
      "name": "learning_rate_decay.ipynb",
      "provenance": [],
      "include_colab_link": true
    }
  },
  "nbformat": 4,
  "nbformat_minor": 5
}