{
  "nbformat": 4,
  "nbformat_minor": 0,
  "metadata": {
    "colab": {
      "name": "multiclass_classification_iris_linear_regression.ipynb",
      "provenance": [],
      "authorship_tag": "ABX9TyNGXNH3gRYxvx5iyVQAh5FW",
      "include_colab_link": true
    },
    "kernelspec": {
      "name": "python3",
      "display_name": "Python 3"
    },
    "language_info": {
      "name": "python"
    }
  },
  "cells": [
    {
      "cell_type": "markdown",
      "metadata": {
        "id": "view-in-github",
        "colab_type": "text"
      },
      "source": [
        "<a href=\"https://colab.research.google.com/github/LondheShubham153/deep_learning/blob/main/multiclass_classification_iris_linear_regression.ipynb\" target=\"_parent\"><img src=\"https://colab.research.google.com/assets/colab-badge.svg\" alt=\"Open In Colab\"/></a>"
      ]
    },
    {
      "cell_type": "code",
      "metadata": {
        "id": "a-2SKgTVx6lo"
      },
      "source": [
        "import numpy as np\n",
        "import pandas as pd\n",
        "from sklearn.linear_model import LogisticRegression\n",
        "from sklearn.model_selection import train_test_split\n",
        "from sklearn.preprocessing import StandardScaler\n",
        "from sklearn.metrics import confusion_matrix"
      ],
      "execution_count": null,
      "outputs": []
    },
    {
      "cell_type": "code",
      "metadata": {
        "id": "8rG9kzAPyTlW"
      },
      "source": [
        "dataset = pd.read_csv('iris.csv')"
      ],
      "execution_count": null,
      "outputs": []
    },
    {
      "cell_type": "code",
      "metadata": {
        "id": "ztd1h4CMyXEk"
      },
      "source": [
        "X = dataset.iloc[:,:4].values\n",
        "y = dataset['Species'].values"
      ],
      "execution_count": null,
      "outputs": []
    },
    {
      "cell_type": "code",
      "metadata": {
        "id": "y7Hp03EoyZBC"
      },
      "source": [
        "\n",
        "X_train, X_test, y_train, y_test = train_test_split(X, y, test_size = 0.20, random_state = 82)"
      ],
      "execution_count": null,
      "outputs": []
    },
    {
      "cell_type": "code",
      "metadata": {
        "id": "kdD2LsjvyakP"
      },
      "source": [
        "\n",
        "sc = StandardScaler()\n",
        "X_train = sc.fit_transform(X_train)\n",
        "X_test = sc.transform(X_test)"
      ],
      "execution_count": null,
      "outputs": []
    },
    {
      "cell_type": "code",
      "metadata": {
        "colab": {
          "base_uri": "https://localhost:8080/"
        },
        "id": "xvjKfj6pycNb",
        "outputId": "a8da14b9-c957-446a-f069-d08f900415f7"
      },
      "source": [
        "\n",
        "# Fitting Multiclass Logistic Classification to the Training set\n",
        "\n",
        "logisticregression = LogisticRegression()\n",
        "logisticregression.fit(X_train, y_train)"
      ],
      "execution_count": null,
      "outputs": [
        {
          "output_type": "execute_result",
          "data": {
            "text/plain": [
              "LogisticRegression(C=1.0, class_weight=None, dual=False, fit_intercept=True,\n",
              "                   intercept_scaling=1, l1_ratio=None, max_iter=100,\n",
              "                   multi_class='auto', n_jobs=None, penalty='l2',\n",
              "                   random_state=None, solver='lbfgs', tol=0.0001, verbose=0,\n",
              "                   warm_start=False)"
            ]
          },
          "metadata": {},
          "execution_count": 8
        }
      ]
    },
    {
      "cell_type": "code",
      "metadata": {
        "colab": {
          "base_uri": "https://localhost:8080/"
        },
        "id": "FPX-gBkFyd6U",
        "outputId": "fcb32c6f-ee18-43dc-a9ef-db1c041d3628"
      },
      "source": [
        "\n",
        "# Predicting the Test set results\n",
        "y_pred = logisticregression.predict(X_test)\n",
        "print(y_pred)"
      ],
      "execution_count": null,
      "outputs": [
        {
          "output_type": "stream",
          "name": "stdout",
          "text": [
            "['virginica' 'virginica' 'setosa' 'setosa' 'setosa' 'versicolor'\n",
            " 'versicolor' 'versicolor' 'virginica' 'versicolor' 'versicolor'\n",
            " 'virginica' 'setosa' 'setosa' 'setosa' 'setosa' 'virginica' 'versicolor'\n",
            " 'setosa' 'versicolor' 'setosa' 'virginica' 'setosa' 'virginica'\n",
            " 'virginica' 'versicolor' 'virginica' 'setosa' 'virginica' 'versicolor']\n"
          ]
        }
      ]
    },
    {
      "cell_type": "code",
      "metadata": {
        "colab": {
          "base_uri": "https://localhost:8080/"
        },
        "id": "t9UJMl2cyfuM",
        "outputId": "b01665dd-d7b0-413c-97d0-225ba6d23027"
      },
      "source": [
        "y_compare = np.vstack((y_test,y_pred)).T\n",
        "#actual value on the left side and predicted value on the right hand side\n",
        "#printing the top 5 values\n",
        "y_compare[:5,:]"
      ],
      "execution_count": null,
      "outputs": [
        {
          "output_type": "execute_result",
          "data": {
            "text/plain": [
              "array([['virginica', 'virginica'],\n",
              "       ['virginica', 'virginica'],\n",
              "       ['setosa', 'setosa'],\n",
              "       ['setosa', 'setosa'],\n",
              "       ['setosa', 'setosa']], dtype=object)"
            ]
          },
          "metadata": {},
          "execution_count": 10
        }
      ]
    },
    {
      "cell_type": "code",
      "metadata": {
        "colab": {
          "base_uri": "https://localhost:8080/"
        },
        "id": "PLVn65SRyhRr",
        "outputId": "fc8aeeac-0296-4047-abd6-4c0154796a9e"
      },
      "source": [
        "\n",
        "cm = confusion_matrix(y_test, y_pred)\n",
        "print(cm)"
      ],
      "execution_count": null,
      "outputs": [
        {
          "output_type": "stream",
          "name": "stdout",
          "text": [
            "[[11  0  0]\n",
            " [ 0  9  0]\n",
            " [ 0  0 10]]\n"
          ]
        }
      ]
    },
    {
      "cell_type": "code",
      "metadata": {
        "colab": {
          "base_uri": "https://localhost:8080/"
        },
        "id": "vHXgNgbiyjDw",
        "outputId": "58b64998-c11e-4f24-97b4-f28e934820f5"
      },
      "source": [
        "\n",
        "#finding accuracy from the confusion matrix.\n",
        "a = cm.shape\n",
        "corrPred = 0\n",
        "falsePred = 0\n",
        "\n",
        "for row in range(a[0]):\n",
        "    for c in range(a[1]):\n",
        "        if row == c:\n",
        "            corrPred +=cm[row,c]\n",
        "        else:\n",
        "            falsePred += cm[row,c]\n",
        "print('Correct predictions: ', corrPred)\n",
        "print('False predictions', falsePred)\n",
        "print ('Accuracy of the multiclass logistic classification is: ', corrPred/(cm.sum()))"
      ],
      "execution_count": null,
      "outputs": [
        {
          "output_type": "stream",
          "name": "stdout",
          "text": [
            "Correct predictions:  30\n",
            "False predictions 0\n",
            "Accuracy of the multiclass logistic classification is:  1.0\n"
          ]
        }
      ]
    }
  ]
}